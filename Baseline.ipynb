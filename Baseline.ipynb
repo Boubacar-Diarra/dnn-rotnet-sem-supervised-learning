{
 "cells": [
  {
   "cell_type": "markdown",
   "metadata": {},
   "source": [
    "# **Baseline** "
   ]
  },
  {
   "cell_type": "code",
   "execution_count": 1,
   "metadata": {},
   "outputs": [],
   "source": [
    "## import\n",
    "import torch.nn as nn\n",
    "import torch\n",
    "import torch.nn as nn\n",
    "import torch.nn.functional as F\n",
    "import torch.optim as optim\n",
    "from matplotlib import pyplot as plt\n",
    "from tqdm import tqdm\n",
    "import numpy as np\n",
    "from utils import load_data_for_mnist, nbr_total_pred\n",
    "import mnist_classifier_config\n",
    "from torchsummary import summary"
   ]
  },
  {
   "cell_type": "code",
   "execution_count": 2,
   "metadata": {},
   "outputs": [
    {
     "name": "stdout",
     "output_type": "stream",
     "text": [
      "num_imgs_per_category: 10\n",
      "nimber total of label data: 100\n"
     ]
    },
    {
     "name": "stderr",
     "output_type": "stream",
     "text": [
      "/home/bdiarra/.local/lib/python3.9/site-packages/torchvision/datasets/mnist.py:498: UserWarning: The given NumPy array is not writeable, and PyTorch does not support non-writeable tensors. This means you can write to the underlying (supposedly non-writeable) NumPy array using the tensor. You may want to copy the array to protect its data or make it writeable before converting it to a tensor. This type of warning will be suppressed for the rest of this program. (Triggered internally at  ../torch/csrc/utils/tensor_numpy.cpp:180.)\n",
      "  return torch.from_numpy(parsed.astype(m[2], copy=False)).view(*s)\n",
      "/home/bdiarra/.local/lib/python3.9/site-packages/torchvision/datasets/mnist.py:52: UserWarning: train_labels has been renamed targets\n",
      "  warnings.warn(\"train_labels has been renamed targets\")\n",
      "/home/bdiarra/.local/lib/python3.9/site-packages/torchvision/datasets/mnist.py:62: UserWarning: train_data has been renamed data\n",
      "  warnings.warn(\"train_data has been renamed data\")\n"
     ]
    }
   ],
   "source": [
    "#data loading\n",
    "dloader_train, dloader_test = load_data_for_mnist()\n",
    "print(f'num_imgs_per_category: {mnist_classifier_config.data_train_opt[\"num_imgs_per_cat\"]}')\n",
    "print(f\"nimber total of label data: {len(dloader_train.dataset.data.targets)}\")"
   ]
  },
  {
   "cell_type": "code",
   "execution_count": 3,
   "metadata": {},
   "outputs": [],
   "source": [
    "## model creation**\n",
    "class Net(nn.Module):\n",
    "    def __init__(self):\n",
    "        super(Net, self).__init__()\n",
    "        self.conv1 = nn.Conv2d(1, 10, kernel_size=5)\n",
    "        self.conv2 = nn.Conv2d(10, 20, kernel_size=5)\n",
    "        self.conv2_drop = nn.Dropout2d()\n",
    "        self.fc1 = nn.Linear(320, 50)\n",
    "        self.fc2 = nn.Linear(50, 10)\n",
    "\n",
    "    def forward(self, x):\n",
    "        x = F.relu(F.max_pool2d(self.conv1(x), 2))\n",
    "        x = F.relu(F.max_pool2d(self.conv2_drop(self.conv2(x)), 2))\n",
    "        x = x.view(-1, 320)\n",
    "        x = F.relu(self.fc1(x))\n",
    "        x = F.dropout(x, training=self.training)\n",
    "        x = self.fc2(x)\n",
    "        return F.log_softmax(x, dim=1)"
   ]
  },
  {
   "cell_type": "code",
   "execution_count": 4,
   "metadata": {},
   "outputs": [],
   "source": [
    "network = Net()\n",
    "if torch.cuda.is_available():\n",
    "    network.cuda()\n",
    "optimizer = torch.optim.Adam(network.parameters(), lr=0.003)"
   ]
  },
  {
   "cell_type": "code",
   "execution_count": null,
   "metadata": {},
   "outputs": [],
   "source": [
    "## training and testing**\n",
    "train_loss = []\n",
    "train_accuracy = []\n",
    "\n",
    "test_loss = []\n",
    "test_accuracy = []\n",
    "\n",
    "# loss function\n",
    "cross_entropy_loss = torch.nn.NLLLoss()\n",
    "# number of epoch\n",
    "nb_epoch = 10\n",
    "\n",
    "\n",
    "def train(epoch):\n",
    "    network.train()\n",
    "    epoch_loss = []\n",
    "    total_label = 0\n",
    "    total_correct_pred = 0\n",
    "    for _, batch in enumerate(tqdm(dloader_train(epoch), ascii=True, desc=f\"epoch_{epoch + 1}/{nb_epoch}\")):\n",
    "        dataX = torch.FloatTensor()\n",
    "        labels = torch.LongTensor()\n",
    "        dataX.resize_(batch[0].size()).copy_(batch[0])\n",
    "        labels.resize_(batch[1].size()).copy_(batch[1])\n",
    "\n",
    "        dataX_var = torch.autograd.Variable(dataX)\n",
    "        labels_var = torch.autograd.Variable(labels, requires_grad=False)\n",
    "        if torch.cuda.is_available():\n",
    "            dataX_var = dataX_var.cuda()\n",
    "            labels_var = labels_var.cuda()\n",
    "        pred_var = network(dataX_var)\n",
    "\n",
    "        # compute the loss\n",
    "        loss = cross_entropy_loss(pred_var, labels_var)\n",
    "        epoch_loss.append(loss.item())\n",
    "\n",
    "        # compute the number of correct prediction\n",
    "        total_correct_pred += nbr_total_pred(pred_var, labels_var)\n",
    "        total_label += labels_var.size(0)\n",
    "\n",
    "        # backpropagation\n",
    "        optimizer.zero_grad()\n",
    "        loss.backward()\n",
    "        optimizer.step()\n",
    "    epoch_loss = sum(epoch_loss) / len(epoch_loss)\n",
    "    accuracy = 100.0 * total_correct_pred / total_label\n",
    "    train_loss.append(epoch_loss)\n",
    "    train_accuracy.append(accuracy)\n",
    "\n",
    "    # create checkpoint (it will be use later for transfer learning stage)\n",
    "    torch.save(\n",
    "        {\n",
    "            'epoch': epoch,\n",
    "            'model_state_dict': network.state_dict(),\n",
    "            'optimizer_state_dict': optimizer.state_dict(),\n",
    "            'loss': train_loss[-1]\n",
    "        }, f\"./models_save_dir/baseline/model_epoch_{epoch + 1}\"\n",
    "    )\n",
    "\n",
    "    print(f\"Train Loss: {epoch_loss} | Accuracy: {accuracy} %\")\n",
    "\n",
    "\n",
    "def test(epoch):\n",
    "    network.eval()\n",
    "    with torch.no_grad():\n",
    "        epoch_loss = []\n",
    "        total_label = 0\n",
    "        total_correct_pred = 0\n",
    "        for _, batch in enumerate(tqdm(dloader_test(epoch), ascii=True, desc=f\"Test of epoch_{epoch + 1}\")):\n",
    "            dataX = torch.FloatTensor()\n",
    "            labels = torch.LongTensor()\n",
    "            dataX.resize_(batch[0].size()).copy_(batch[0])\n",
    "            labels.resize_(batch[1].size()).copy_(batch[1])\n",
    "            dataX_var = torch.autograd.Variable(dataX)\n",
    "            labels_var = torch.autograd.Variable(labels, requires_grad=False)\n",
    "            if torch.cuda.is_available():\n",
    "                dataX_var = dataX_var.cuda()\n",
    "                labels_var = labels_var.cuda()\n",
    "            pred_var = network(dataX_var)\n",
    "\n",
    "            # compute the loss\n",
    "            loss = cross_entropy_loss(pred_var, labels_var)\n",
    "            epoch_loss.append(loss.item())\n",
    "\n",
    "            # compute the number of correct prediction\n",
    "            total_correct_pred += nbr_total_pred(pred_var, labels_var)\n",
    "            total_label += labels_var.size(0)\n",
    "        epoch_loss = sum(epoch_loss) / len(epoch_loss)\n",
    "        accuracy = 100.0 * total_correct_pred / total_label\n",
    "        test_loss.append(epoch_loss)\n",
    "        test_accuracy.append(accuracy)\n",
    "\n",
    "        print(f\"Test Loss: {epoch_loss} | Accuracy: {accuracy} %\")\n",
    "\n",
    "\n",
    "def fit(nb_epoch):\n",
    "    for epoch in range(nb_epoch):\n",
    "        train(epoch)\n",
    "        test(epoch)\n",
    "\n",
    "\n",
    "fit(nb_epoch)"
   ]
  },
  {
   "cell_type": "code",
   "execution_count": 6,
   "metadata": {},
   "outputs": [
    {
     "data": {
      "image/png": "[encoded data removed]",
      "text/plain": [
       "<Figure size 432x288 with 1 Axes>"
      ]
     },
     "metadata": {
      "needs_background": "light"
     },
     "output_type": "display_data"
    },
    {
     "name": "stdout",
     "output_type": "stream",
     "text": [
      "\n"
     ]
    },
    {
     "data": {
      "image/png": "[encoded data removed]",
      "text/plain": [
       "<Figure size 432x288 with 1 Axes>"
      ]
     },
     "metadata": {
      "needs_background": "light"
     },
     "output_type": "display_data"
    }
   ],
   "source": [
    "## visualise train loss and accuracy plot\n",
    "plt.plot(np.linspace(1, nb_epoch, nb_epoch).astype(int), train_loss, label='train_loss')\n",
    "fig = plt.plot(np.linspace(1, nb_epoch, nb_epoch).astype(int), test_loss, label='test_loss', c='purple')\n",
    "plt.legend(loc='upper left')\n",
    "plt.xlabel('epoch')\n",
    "plt.ylabel('loss')\n",
    "plt.title(\"loss curve\")\n",
    "plt.savefig('./figs/loss_curve_baseline')\n",
    "plt.show()\n",
    "print()\n",
    "plt.plot(np.linspace(1, nb_epoch, nb_epoch).astype(int), train_accuracy, label='train_accuracy')\n",
    "plt.plot(np.linspace(1, nb_epoch,nb_epoch).astype(int), test_accuracy, label='test_accuracy', c='purple')\n",
    "plt.legend(loc='upper left')\n",
    "plt.xlabel('epoch')\n",
    "plt.ylabel('accuracy (%)')\n",
    "plt.title(\"accuracy curve\")\n",
    "plt.savefig('./figs/accuracy_curve_baseline')\n",
    "plt.show()"
   ]
  },
  {
   "cell_type": "code",
   "execution_count": 8,
   "metadata": {},
   "outputs": [
    {
     "data": {
      "image/png": "[encoded data removed]",
      "text/plain": [
       "<Figure size 432x288 with 20 Axes>"
      ]
     },
     "metadata": {
      "needs_background": "light"
     },
     "output_type": "display_data"
    }
   ],
   "source": [
    "# prediction after training\n",
    "for b in dloader_test(0):\n",
    "    data, label = b\n",
    "    break\n",
    "\n",
    "inv_transform = dloader_train.inv_transform\n",
    "\n",
    "if torch.cuda.is_available():\n",
    "    data_cuda = data.cuda()\n",
    "else:\n",
    "    data_cuda = data\n",
    "network.eval()\n",
    "with torch.no_grad():\n",
    "    _, pred = network(data_cuda).data.max(1)\n",
    "\n",
    "    for i in range(20):\n",
    "        plt.subplot(5, 4, i + 1)\n",
    "        plt.tight_layout()\n",
    "        plt.title(f\"{pred[i].item()}\")\n",
    "        fig = plt.imshow(inv_transform(data[i]).squeeze(), cmap='gray')\n",
    "        fig.axes.get_xaxis().set_visible(False)\n",
    "        fig.axes.get_yaxis().set_visible(False)\n",
    "\n",
    "    plt.savefig(\n",
    "        f'./figs/basline_img_4x4_pred_after_training_with_{mnist_classifier_config.data_train_opt[\"num_imgs_per_cat\"]}')\n",
    "    plt.show()"
   ]
  }
 ],
 "metadata": {
  "interpreter": {
   "hash": "31f2aee4e71d21fbe5cf8b01ff0e069b9275f58929596ceb00d14d90e3e16cd6"
  },
  "kernelspec": {
   "display_name": "Python 3.9.2 64-bit",
   "language": "python",
   "name": "python3"
  },
  "language_info": {
   "codemirror_mode": {
    "name": "ipython",
    "version": 3
   },
   "file_extension": ".py",
   "mimetype": "text/x-python",
   "name": "python",
   "nbconvert_exporter": "python",
   "pygments_lexer": "ipython3",
   "version": "3.9.2"
  },
  "orig_nbformat": 4
 },
 "nbformat": 4,
 "nbformat_minor": 2
}
