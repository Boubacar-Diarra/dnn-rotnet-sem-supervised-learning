{
 "cells": [
  {
   "cell_type": "markdown",
   "metadata": {},
   "source": [
    "# **MNIST Classifier**"
   ]
  },
  {
   "cell_type": "code",
   "execution_count": 1,
   "metadata": {},
   "outputs": [],
   "source": [
    "# import\n",
    "import torch\n",
    "import torchvision\n",
    "import nin\n",
    "import rotnet_config\n",
    "from dataloader import DataLoader, GenericDataset\n",
    "from matplotlib import pyplot as plt\n",
    "from tqdm import tqdm\n",
    "import numpy as np\n",
    "from utils import load_data_for_rotnet, load_data_for_mnist, nbr_total_pred\n",
    "import non_linear_classifier\n",
    "import mnist_classifier_config\n",
    "from torchsummary import summary"
   ]
  },
  {
   "cell_type": "code",
   "execution_count": 2,
   "metadata": {},
   "outputs": [
    {
     "name": "stderr",
     "output_type": "stream",
     "text": [
      "/home/bdiarra/.local/lib/python3.9/site-packages/torchvision/datasets/mnist.py:498: UserWarning: The given NumPy array is not writeable, and PyTorch does not support non-writeable tensors. This means you can write to the underlying (supposedly non-writeable) NumPy array using the tensor. You may want to copy the array to protect its data or make it writeable before converting it to a tensor. This type of warning will be suppressed for the rest of this program. (Triggered internally at  ../torch/csrc/utils/tensor_numpy.cpp:180.)\n",
      "  return torch.from_numpy(parsed.astype(m[2], copy=False)).view(*s)\n",
      "/home/bdiarra/.local/lib/python3.9/site-packages/torchvision/datasets/mnist.py:52: UserWarning: train_labels has been renamed targets\n",
      "  warnings.warn(\"train_labels has been renamed targets\")\n",
      "/home/bdiarra/.local/lib/python3.9/site-packages/torchvision/datasets/mnist.py:62: UserWarning: train_data has been renamed data\n",
      "  warnings.warn(\"train_data has been renamed data\")\n"
     ]
    },
    {
     "name": "stdout",
     "output_type": "stream",
     "text": [
      "num_imgs_per_category: 10\n",
      "nimber total of label data: 100\n"
     ]
    }
   ],
   "source": [
    "# data loading\n",
    "dloader_train, dloader_test = load_data_for_mnist()\n",
    "print(f'num_imgs_per_category: {mnist_classifier_config.data_train_opt[\"num_imgs_per_cat\"]}')\n",
    "print(f\"nimber total of label data: {len(dloader_train.dataset.data.targets)}\")"
   ]
  },
  {
   "cell_type": "code",
   "execution_count": 3,
   "metadata": {},
   "outputs": [
    {
     "name": "stdout",
     "output_type": "stream",
     "text": [
      "\n"
     ]
    }
   ],
   "source": [
    "# model creation\n",
    "mnist_classifier = non_linear_classifier.create_model(mnist_classifier_config.cls_net_opt)\n",
    "rotnet_nin = nin.create_model(rotnet_config.net_opt)\n",
    "rotnet_nin.load_state_dict(torch.load(\"./models_save_dir/rotnet/model_epoch_8\")['model_state_dict'])\n",
    "if torch.cuda.is_available():\n",
    "    mnist_classifier.cuda()\n",
    "    rotnet_nin.cuda()\n",
    "rotnet_nin.eval()\n",
    "print('')"
   ]
  },
  {
   "cell_type": "code",
   "execution_count": 4,
   "metadata": {},
   "outputs": [
    {
     "name": "stdout",
     "output_type": "stream",
     "text": [
      "----------------------------------------------------------------\n",
      "        Layer (type)               Output Shape         Param #\n",
      "================================================================\n",
      "            Conv2d-1            [32, 192, 8, 8]         331,776\n",
      "       BatchNorm2d-2            [32, 192, 8, 8]             384\n",
      "              ReLU-3            [32, 192, 8, 8]               0\n",
      "        BasicBlock-4            [32, 192, 8, 8]               0\n",
      "            Conv2d-5            [32, 192, 8, 8]          36,864\n",
      "       BatchNorm2d-6            [32, 192, 8, 8]             384\n",
      "              ReLU-7            [32, 192, 8, 8]               0\n",
      "        BasicBlock-8            [32, 192, 8, 8]               0\n",
      "            Conv2d-9            [32, 192, 8, 8]          36,864\n",
      "      BatchNorm2d-10            [32, 192, 8, 8]             384\n",
      "             ReLU-11            [32, 192, 8, 8]               0\n",
      "       BasicBlock-12            [32, 192, 8, 8]               0\n",
      "    GlobalAvgPool-13                  [32, 192]               0\n",
      "           Linear-14                   [32, 10]           1,930\n",
      "================================================================\n",
      "Total params: 408,586\n",
      "Trainable params: 408,586\n",
      "Non-trainable params: 0\n",
      "----------------------------------------------------------------\n",
      "Input size (MB): 1.50\n",
      "Forward/backward pass size (MB): 36.05\n",
      "Params size (MB): 1.56\n",
      "Estimated Total Size (MB): 39.11\n",
      "----------------------------------------------------------------\n"
     ]
    }
   ],
   "source": [
    "#model summary\n",
    "summary(mnist_classifier, (192,8,8), batch_size=32, device='cuda' )"
   ]
  },
  {
   "cell_type": "code",
   "execution_count": 5,
   "metadata": {},
   "outputs": [],
   "source": [
    "#optimizer creeation\n",
    "learning_rate = mnist_classifier_config.cls_net_optim_params['lr']\n",
    "params = mnist_classifier.parameters()\n",
    "optimizer_mnist = torch.optim.SGD(params,\n",
    "                        lr=learning_rate,\n",
    "                        momentum=mnist_classifier_config.cls_net_optim_params['momentum'],\n",
    "                        nesterov=mnist_classifier_config.cls_net_optim_params['nesterov'],\n",
    "                        weight_decay=mnist_classifier_config.cls_net_optim_params['weight_decay']\n",
    "                        )"
   ]
  },
  {
   "cell_type": "code",
   "execution_count": 6,
   "metadata": {},
   "outputs": [
    {
     "name": "stderr",
     "output_type": "stream",
     "text": [
      "epoch_1/10: 100%|##########| 1875/1875 [01:20<00:00, 23.16it/s]\n"
     ]
    },
    {
     "name": "stdout",
     "output_type": "stream",
     "text": [
      "Train Loss: 0.013732169721275568 | Accuracy: 99.78 %\n"
     ]
    },
    {
     "name": "stderr",
     "output_type": "stream",
     "text": [
      "Test of epoch_1: 100%|##########| 313/313 [00:12<00:00, 25.53it/s]\n"
     ]
    },
    {
     "name": "stdout",
     "output_type": "stream",
     "text": [
      "Test Loss: 0.31226514605954053 | Accuracy: 90.07 %\n"
     ]
    },
    {
     "name": "stderr",
     "output_type": "stream",
     "text": [
      "epoch_2/10: 100%|##########| 1875/1875 [01:28<00:00, 21.26it/s]\n"
     ]
    },
    {
     "name": "stdout",
     "output_type": "stream",
     "text": [
      "Train Loss: 0.0020250013088807463 | Accuracy: 100.0 %\n"
     ]
    },
    {
     "name": "stderr",
     "output_type": "stream",
     "text": [
      "Test of epoch_2: 100%|##########| 313/313 [00:12<00:00, 25.35it/s]\n"
     ]
    },
    {
     "name": "stdout",
     "output_type": "stream",
     "text": [
      "Test Loss: 0.2964184710848184 | Accuracy: 90.69 %\n"
     ]
    },
    {
     "name": "stderr",
     "output_type": "stream",
     "text": [
      "epoch_3/10: 100%|##########| 1875/1875 [01:27<00:00, 21.50it/s]\n"
     ]
    },
    {
     "name": "stdout",
     "output_type": "stream",
     "text": [
      "Train Loss: 0.002202107565042873 | Accuracy: 100.0 %\n"
     ]
    },
    {
     "name": "stderr",
     "output_type": "stream",
     "text": [
      "Test of epoch_3: 100%|##########| 313/313 [00:11<00:00, 26.46it/s]\n"
     ]
    },
    {
     "name": "stdout",
     "output_type": "stream",
     "text": [
      "Test Loss: 0.29719923303935664 | Accuracy: 91.18 %\n"
     ]
    },
    {
     "name": "stderr",
     "output_type": "stream",
     "text": [
      "epoch_4/10: 100%|##########| 1875/1875 [01:25<00:00, 21.85it/s]\n"
     ]
    },
    {
     "name": "stdout",
     "output_type": "stream",
     "text": [
      "Train Loss: 0.002351848750313123 | Accuracy: 100.0 %\n"
     ]
    },
    {
     "name": "stderr",
     "output_type": "stream",
     "text": [
      "Test of epoch_4: 100%|##########| 313/313 [00:13<00:00, 23.14it/s]\n"
     ]
    },
    {
     "name": "stdout",
     "output_type": "stream",
     "text": [
      "Test Loss: 0.30061123080956287 | Accuracy: 91.26 %\n"
     ]
    },
    {
     "name": "stderr",
     "output_type": "stream",
     "text": [
      "epoch_5/10: 100%|##########| 1875/1875 [01:30<00:00, 20.70it/s]\n"
     ]
    },
    {
     "name": "stdout",
     "output_type": "stream",
     "text": [
      "Train Loss: 0.0023564885358015697 | Accuracy: 100.0 %\n"
     ]
    },
    {
     "name": "stderr",
     "output_type": "stream",
     "text": [
      "Test of epoch_5: 100%|##########| 313/313 [00:12<00:00, 25.96it/s]\n"
     ]
    },
    {
     "name": "stdout",
     "output_type": "stream",
     "text": [
      "Test Loss: 0.3459290816796759 | Accuracy: 89.95 %\n"
     ]
    },
    {
     "name": "stderr",
     "output_type": "stream",
     "text": [
      "epoch_6/10: 100%|##########| 1875/1875 [01:24<00:00, 22.18it/s]\n"
     ]
    },
    {
     "name": "stdout",
     "output_type": "stream",
     "text": [
      "Train Loss: 0.0025055591431756815 | Accuracy: 100.0 %\n"
     ]
    },
    {
     "name": "stderr",
     "output_type": "stream",
     "text": [
      "Test of epoch_6: 100%|##########| 313/313 [00:11<00:00, 26.33it/s]\n"
     ]
    },
    {
     "name": "stdout",
     "output_type": "stream",
     "text": [
      "Test Loss: 0.40095662087582934 | Accuracy: 88.97 %\n"
     ]
    },
    {
     "name": "stderr",
     "output_type": "stream",
     "text": [
      "epoch_7/10: 100%|##########| 1875/1875 [01:22<00:00, 22.85it/s]\n"
     ]
    },
    {
     "name": "stdout",
     "output_type": "stream",
     "text": [
      "Train Loss: 0.007060171853440504 | Accuracy: 99.95833333333333 %\n"
     ]
    },
    {
     "name": "stderr",
     "output_type": "stream",
     "text": [
      "Test of epoch_7: 100%|##########| 313/313 [00:11<00:00, 26.45it/s]\n"
     ]
    },
    {
     "name": "stdout",
     "output_type": "stream",
     "text": [
      "Test Loss: 0.3270108442063244 | Accuracy: 89.92 %\n"
     ]
    },
    {
     "name": "stderr",
     "output_type": "stream",
     "text": [
      "epoch_8/10: 100%|##########| 1875/1875 [01:23<00:00, 22.37it/s]\n"
     ]
    },
    {
     "name": "stdout",
     "output_type": "stream",
     "text": [
      "Train Loss: 0.002357741318705181 | Accuracy: 100.0 %\n"
     ]
    },
    {
     "name": "stderr",
     "output_type": "stream",
     "text": [
      "Test of epoch_8: 100%|##########| 313/313 [00:12<00:00, 24.96it/s]\n"
     ]
    },
    {
     "name": "stdout",
     "output_type": "stream",
     "text": [
      "Test Loss: 0.39932177357447035 | Accuracy: 88.28 %\n"
     ]
    },
    {
     "name": "stderr",
     "output_type": "stream",
     "text": [
      "epoch_9/10: 100%|##########| 1875/1875 [01:24<00:00, 22.16it/s]\n"
     ]
    },
    {
     "name": "stdout",
     "output_type": "stream",
     "text": [
      "Train Loss: 0.002632116094821443 | Accuracy: 100.0 %\n"
     ]
    },
    {
     "name": "stderr",
     "output_type": "stream",
     "text": [
      "Test of epoch_9: 100%|##########| 313/313 [00:11<00:00, 26.72it/s]\n"
     ]
    },
    {
     "name": "stdout",
     "output_type": "stream",
     "text": [
      "Test Loss: 0.36105936135465916 | Accuracy: 89.56 %\n"
     ]
    },
    {
     "name": "stderr",
     "output_type": "stream",
     "text": [
      "epoch_10/10: 100%|##########| 1875/1875 [01:22<00:00, 22.67it/s]\n"
     ]
    },
    {
     "name": "stdout",
     "output_type": "stream",
     "text": [
      "Train Loss: 0.003043139598922183 | Accuracy: 99.99666666666667 %\n"
     ]
    },
    {
     "name": "stderr",
     "output_type": "stream",
     "text": [
      "Test of epoch_10: 100%|##########| 313/313 [00:12<00:00, 25.95it/s]"
     ]
    },
    {
     "name": "stdout",
     "output_type": "stream",
     "text": [
      "Test Loss: 0.38690685040463274 | Accuracy: 88.69 %\n"
     ]
    },
    {
     "name": "stderr",
     "output_type": "stream",
     "text": [
      "\n"
     ]
    }
   ],
   "source": [
    "# training and testing\n",
    "train_loss = []\n",
    "train_accuracy = []\n",
    "\n",
    "test_loss = []\n",
    "test_accuracy = []\n",
    "\n",
    "# loss function\n",
    "cross_entropy_loss = torch.nn.CrossEntropyLoss()\n",
    "\n",
    "# number of epoch\n",
    "nb_epoch = mnist_classifier_config.config['max_num_epochs']\n",
    "\n",
    "\n",
    "def train(epoch):\n",
    "    mnist_classifier.train()\n",
    "    epoch_loss = []\n",
    "    total_label = 0\n",
    "    total_correct_pred = 0\n",
    "    for _, batch in enumerate(tqdm(dloader_train(epoch), ascii=True, desc=f\"epoch_{epoch + 1}/{nb_epoch}\")):\n",
    "        dataX = torch.FloatTensor()\n",
    "        labels = torch.LongTensor()\n",
    "        dataX.resize_(batch[0].size()).copy_(batch[0])\n",
    "        labels.resize_(batch[1].size()).copy_(batch[1])\n",
    "\n",
    "        with torch.no_grad():\n",
    "            dataX_var = torch.autograd.Variable(dataX)\n",
    "            if torch.cuda.is_available():\n",
    "                dataX_var = dataX_var.cuda()\n",
    "            feat_var = rotnet_nin(dataX_var, out_feat_keys=['conv2'])\n",
    "\n",
    "        labels_var = torch.autograd.Variable(labels, requires_grad=False)\n",
    "        dataX_var = torch.autograd.Variable(feat_var)\n",
    "        if torch.cuda.is_available():\n",
    "            dataX_var = dataX_var.cuda()\n",
    "            labels_var = labels_var.cuda()\n",
    "        pred_var = mnist_classifier(feat_var)\n",
    "\n",
    "        # compute the loss\n",
    "        loss = cross_entropy_loss(pred_var, labels_var)\n",
    "        epoch_loss.append(loss.item())\n",
    "\n",
    "        # compute the number of correct prediction\n",
    "        total_correct_pred += nbr_total_pred(pred_var, labels_var)\n",
    "        total_label += labels_var.size(0)\n",
    "\n",
    "        # backpropagation\n",
    "        optimizer_mnist.zero_grad()\n",
    "        loss.backward()\n",
    "        optimizer_mnist.step()\n",
    "    epoch_loss = sum(epoch_loss) / len(epoch_loss)\n",
    "    accuracy = 100.0 * total_correct_pred / total_label\n",
    "    train_loss.append(epoch_loss)\n",
    "    train_accuracy.append(accuracy)\n",
    "\n",
    "    # create checkpoint (it will be use later for transfer learning stage)\n",
    "    torch.save(\n",
    "        {\n",
    "            'epoch': epoch,\n",
    "            'model_state_dict': mnist_classifier.state_dict(),\n",
    "            'optimizer_state_dict': optimizer_mnist.state_dict(),\n",
    "            'loss': train_loss[-1]\n",
    "        }, f\"./models_save_dir/mnist/model_epoch_{epoch + 1}\"\n",
    "    )\n",
    "\n",
    "    print(f\"Train Loss: {epoch_loss} | Accuracy: {accuracy} %\")\n",
    "\n",
    "\n",
    "def test(epoch):\n",
    "    mnist_classifier.eval()\n",
    "    epoch_loss = []\n",
    "    total_label = 0\n",
    "    total_correct_pred = 0\n",
    "    with torch.no_grad():\n",
    "        for _, batch in enumerate(tqdm(dloader_test(epoch), ascii=True, desc=f\"Test of epoch_{epoch + 1}\")):\n",
    "            dataX = torch.FloatTensor()\n",
    "            labels = torch.LongTensor()\n",
    "            dataX.resize_(batch[0].size()).copy_(batch[0])\n",
    "            labels.resize_(batch[1].size()).copy_(batch[1])\n",
    "            dataX_var = torch.autograd.Variable(dataX)\n",
    "            labels_var = torch.autograd.Variable(labels, requires_grad=False)\n",
    "            if torch.cuda.is_available():\n",
    "                dataX_var = dataX_var.cuda()\n",
    "                labels_var = labels_var.cuda()\n",
    "            feat_var = rotnet_nin(dataX_var, out_feat_keys=['conv2'])\n",
    "            pred_var = mnist_classifier(feat_var)\n",
    "\n",
    "            # compute the loss\n",
    "            loss = cross_entropy_loss(pred_var, labels_var)\n",
    "            epoch_loss.append(loss.item())\n",
    "\n",
    "            # compute the number of correct prediction\n",
    "            total_correct_pred += nbr_total_pred(pred_var, labels_var)\n",
    "            total_label += labels_var.size(0)\n",
    "        epoch_loss = sum(epoch_loss) / len(epoch_loss)\n",
    "        accuracy = 100.0 * total_correct_pred / total_label\n",
    "        test_loss.append(epoch_loss)\n",
    "        test_accuracy.append(accuracy)\n",
    "\n",
    "        print(f\"Test Loss: {epoch_loss} | Accuracy: {accuracy} %\")\n",
    "\n",
    "\n",
    "def fit(nb_epoch):\n",
    "    for epoch in range(nb_epoch):\n",
    "        train(epoch)\n",
    "        test(epoch)\n",
    "\n",
    "\n",
    "fit(nb_epoch)"
   ]
  },
  {
   "cell_type": "code",
   "execution_count": 7,
   "metadata": {},
   "outputs": [
    {
     "data": {
      "image/png": "[encoded data removed]",
      "text/plain": [
       "<Figure size 432x288 with 1 Axes>"
      ]
     },
     "metadata": {
      "needs_background": "light"
     },
     "output_type": "display_data"
    },
    {
     "name": "stdout",
     "output_type": "stream",
     "text": [
      "\n"
     ]
    },
    {
     "data": {
      "image/png": "[encoded data removed]",
      "text/plain": [
       "<Figure size 432x288 with 1 Axes>"
      ]
     },
     "metadata": {
      "needs_background": "light"
     },
     "output_type": "display_data"
    }
   ],
   "source": [
    "# Vislualise loss and accuracy curve\n",
    "plt.plot(np.linspace(1, nb_epoch, nb_epoch).astype(int), train_loss, label='train_loss')\n",
    "fig = plt.plot(np.linspace(1, nb_epoch, nb_epoch).astype(int), test_loss, label='test_loss', c='purple')\n",
    "plt.legend(loc='upper left')\n",
    "plt.xlabel('epoch')\n",
    "plt.ylabel('loss')\n",
    "plt.title(\"loss curve\")\n",
    "plt.savefig('./figs/loss_curve_minist_model')\n",
    "plt.show()\n",
    "print()\n",
    "plt.plot(np.linspace(1, nb_epoch, nb_epoch).astype(int), train_accuracy, label='train_accuracy')\n",
    "plt.plot(np.linspace(1, nb_epoch,nb_epoch).astype(int), test_accuracy, label='test_accuracy', c='purple')\n",
    "plt.legend(loc='upper left')\n",
    "plt.xlabel('epoch')\n",
    "plt.ylabel('accuracy (%)')\n",
    "plt.title(\"accuracy curve\")\n",
    "plt.savefig(f'./figs/accuracy_curve_mnist_model_with_{mnist_classifier_config.data_train_opt[\"num_imgs_per_cat\"]}')\n",
    "plt.show()"
   ]
  },
  {
   "cell_type": "code",
   "execution_count": 4,
   "metadata": {},
   "outputs": [
    {
     "data": {
      "image/png": "[encoded data removed]",
      "text/plain": [
       "<Figure size 432x288 with 20 Axes>"
      ]
     },
     "metadata": {
      "needs_background": "light"
     },
     "output_type": "display_data"
    }
   ],
   "source": [
    "# Prediction after training\n",
    "# we load the model with the best epoch\n",
    "mnist_classifier = non_linear_classifier.create_model(mnist_classifier_config.cls_net_opt)\n",
    "mnist_classifier.load_state_dict(torch.load(\"./models_save_dir/mnist/model_epoch_4\")['model_state_dict'])\n",
    "if torch.cuda.is_available():\n",
    "    mnist_classifier.cuda()\n",
    "\n",
    "for b in dloader_test(0):\n",
    "    data, label = b\n",
    "    break\n",
    "\n",
    "inv_transform = dloader_train.inv_transform\n",
    "\n",
    "if torch.cuda.is_available():\n",
    "    data_cuda = data.cuda()\n",
    "else:\n",
    "    data_cuda = data\n",
    "mnist_classifier.eval()\n",
    "with torch.no_grad():\n",
    "    feat_var = rotnet_nin(data_cuda, out_feat_keys=['conv2'])\n",
    "    _, pred = mnist_classifier(feat_var).data.max(1)\n",
    "\n",
    "    for i in range(20):\n",
    "        plt.subplot(5, 4, i + 1)\n",
    "        plt.tight_layout()\n",
    "        plt.title(f\"{pred[i].item()}\")\n",
    "        fig = plt.imshow(inv_transform(data[i]).squeeze(), cmap='gray')\n",
    "        fig.axes.get_xaxis().set_visible(False)\n",
    "        fig.axes.get_yaxis().set_visible(False)\n",
    "\n",
    "    plt.savefig(\n",
    "        f'./figs/mnist_img_4x4_pred_after_training_with_{mnist_classifier_config.data_train_opt[\"num_imgs_per_cat\"]}')\n",
    "    plt.show()"
   ]
  }
 ],
 "metadata": {
  "interpreter": {
   "hash": "31f2aee4e71d21fbe5cf8b01ff0e069b9275f58929596ceb00d14d90e3e16cd6"
  },
  "kernelspec": {
   "display_name": "Python 3.9.2 64-bit",
   "language": "python",
   "name": "python3"
  },
  "language_info": {
   "codemirror_mode": {
    "name": "ipython",
    "version": 3
   },
   "file_extension": ".py",
   "mimetype": "text/x-python",
   "name": "python",
   "nbconvert_exporter": "python",
   "pygments_lexer": "ipython3",
   "version": "3.9.2"
  },
  "orig_nbformat": 4
 },
 "nbformat": 4,
 "nbformat_minor": 2
}
