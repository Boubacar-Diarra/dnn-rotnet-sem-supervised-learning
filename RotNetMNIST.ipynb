{
  "cells": [
    {
      "cell_type": "markdown",
      "metadata": {},
      "source": [
        "# **RotNet Classifier Creation**"
      ]
    },
    {
      "cell_type": "code",
      "execution_count": 9,
      "metadata": {
        "colab": {
          "base_uri": "https://localhost:8080/",
          "height": 363
        },
        "id": "-i4yz3Nu8AAN",
        "outputId": "a1bdf5bc-e42e-41d7-d99c-26c1b4e99fc0"
      },
      "outputs": [],
      "source": [
        "# import\n",
        "import torch\n",
        "import torchvision\n",
        "import nin\n",
        "import rotnet_config\n",
        "from dataloader import DataLoader, GenericDataset\n",
        "from matplotlib import pyplot as plt\n",
        "from tqdm import tqdm\n",
        "import numpy as np\n",
        "from utils import load_data_for_rotnet, load_data_for_mnist, nbr_total_pred\n",
        "from torchsummary import summary"
      ]
    },
    {
      "cell_type": "code",
      "execution_count": 10,
      "metadata": {
        "colab": {
          "base_uri": "https://localhost:8080/"
        },
        "id": "3y6ILGs__UmO",
        "outputId": "478f29f9-f4f6-4c4c-a2cd-19510ff24dda"
      },
      "outputs": [],
      "source": [
        "#data loading\n",
        "dloader_train, dloader_test = load_data_for_rotnet()"
      ]
    },
    {
      "cell_type": "code",
      "execution_count": 11,
      "metadata": {},
      "outputs": [],
      "source": [
        "# model creation\n",
        "rotnet_nin = nin.create_model(rotnet_config.net_opt)\n",
        "if torch.cuda.is_available():\n",
        "    rotnet_nin.cuda()"
      ]
    },
    {
      "cell_type": "code",
      "execution_count": 12,
      "metadata": {},
      "outputs": [
        {
          "name": "stdout",
          "output_type": "stream",
          "text": [
            "----------------------------------------------------------------\n",
            "        Layer (type)               Output Shape         Param #\n",
            "================================================================\n",
            "            Conv2d-1          [32, 192, 28, 28]           4,800\n",
            "       BatchNorm2d-2          [32, 192, 28, 28]             384\n",
            "              ReLU-3          [32, 192, 28, 28]               0\n",
            "        BasicBlock-4          [32, 192, 28, 28]               0\n",
            "            Conv2d-5          [32, 160, 28, 28]          30,720\n",
            "       BatchNorm2d-6          [32, 160, 28, 28]             320\n",
            "              ReLU-7          [32, 160, 28, 28]               0\n",
            "        BasicBlock-8          [32, 160, 28, 28]               0\n",
            "            Conv2d-9           [32, 96, 28, 28]          15,360\n",
            "      BatchNorm2d-10           [32, 96, 28, 28]             192\n",
            "             ReLU-11           [32, 96, 28, 28]               0\n",
            "       BasicBlock-12           [32, 96, 28, 28]               0\n",
            "        MaxPool2d-13           [32, 96, 15, 15]               0\n",
            "           Conv2d-14          [32, 192, 15, 15]         460,800\n",
            "      BatchNorm2d-15          [32, 192, 15, 15]             384\n",
            "             ReLU-16          [32, 192, 15, 15]               0\n",
            "       BasicBlock-17          [32, 192, 15, 15]               0\n",
            "           Conv2d-18          [32, 192, 15, 15]          36,864\n",
            "      BatchNorm2d-19          [32, 192, 15, 15]             384\n",
            "             ReLU-20          [32, 192, 15, 15]               0\n",
            "       BasicBlock-21          [32, 192, 15, 15]               0\n",
            "           Conv2d-22          [32, 192, 15, 15]          36,864\n",
            "      BatchNorm2d-23          [32, 192, 15, 15]             384\n",
            "             ReLU-24          [32, 192, 15, 15]               0\n",
            "       BasicBlock-25          [32, 192, 15, 15]               0\n",
            "        AvgPool2d-26            [32, 192, 8, 8]               0\n",
            "           Conv2d-27            [32, 192, 8, 8]         331,776\n",
            "      BatchNorm2d-28            [32, 192, 8, 8]             384\n",
            "             ReLU-29            [32, 192, 8, 8]               0\n",
            "       BasicBlock-30            [32, 192, 8, 8]               0\n",
            "           Conv2d-31            [32, 192, 8, 8]          36,864\n",
            "      BatchNorm2d-32            [32, 192, 8, 8]             384\n",
            "             ReLU-33            [32, 192, 8, 8]               0\n",
            "       BasicBlock-34            [32, 192, 8, 8]               0\n",
            "           Conv2d-35            [32, 192, 8, 8]          36,864\n",
            "      BatchNorm2d-36            [32, 192, 8, 8]             384\n",
            "             ReLU-37            [32, 192, 8, 8]               0\n",
            "       BasicBlock-38            [32, 192, 8, 8]               0\n",
            "           Conv2d-39            [32, 192, 8, 8]         331,776\n",
            "      BatchNorm2d-40            [32, 192, 8, 8]             384\n",
            "             ReLU-41            [32, 192, 8, 8]               0\n",
            "       BasicBlock-42            [32, 192, 8, 8]               0\n",
            "           Conv2d-43            [32, 192, 8, 8]          36,864\n",
            "      BatchNorm2d-44            [32, 192, 8, 8]             384\n",
            "             ReLU-45            [32, 192, 8, 8]               0\n",
            "       BasicBlock-46            [32, 192, 8, 8]               0\n",
            "           Conv2d-47            [32, 192, 8, 8]          36,864\n",
            "      BatchNorm2d-48            [32, 192, 8, 8]             384\n",
            "             ReLU-49            [32, 192, 8, 8]               0\n",
            "       BasicBlock-50            [32, 192, 8, 8]               0\n",
            "GlobalAveragePooling-51                  [32, 192]               0\n",
            "           Linear-52                    [32, 4]             772\n",
            "================================================================\n",
            "Total params: 1,401,540\n",
            "Trainable params: 1,401,540\n",
            "Non-trainable params: 0\n",
            "----------------------------------------------------------------\n",
            "Input size (MB): 0.10\n",
            "Forward/backward pass size (MB): 549.88\n",
            "Params size (MB): 5.35\n",
            "Estimated Total Size (MB): 555.33\n",
            "----------------------------------------------------------------\n"
          ]
        }
      ],
      "source": [
        "#model summary\n",
        "summary(rotnet_nin, (1,28,28), batch_size=32, device='cuda' )"
      ]
    },
    {
      "cell_type": "code",
      "execution_count": 13,
      "metadata": {
        "id": "Q5iGGlxdNH_D"
      },
      "outputs": [],
      "source": [
        "params = rotnet_nin.parameters()\n",
        "optimizer = torch.optim.Adam(params, lr=0.003)\n"
      ]
    },
    {
      "cell_type": "code",
      "execution_count": 14,
      "metadata": {},
      "outputs": [
        {
          "name": "stderr",
          "output_type": "stream",
          "text": [
            "epoch_1/10: 100%|##########| 1875/1875 [09:32<00:00,  3.28it/s]\n"
          ]
        },
        {
          "name": "stdout",
          "output_type": "stream",
          "text": [
            "Train Loss: 0.1134007720110317 | Accuracy: 95.79458333333334 %\n"
          ]
        },
        {
          "name": "stderr",
          "output_type": "stream",
          "text": [
            "Test of epoch_1: 100%|##########| 313/313 [00:37<00:00,  8.45it/s]\n"
          ]
        },
        {
          "name": "stdout",
          "output_type": "stream",
          "text": [
            "Test Loss: 0.1396011816599546 | Accuracy: 94.97 %\n"
          ]
        },
        {
          "name": "stderr",
          "output_type": "stream",
          "text": [
            "epoch_2/10: 100%|##########| 1875/1875 [09:34<00:00,  3.26it/s]\n"
          ]
        },
        {
          "name": "stdout",
          "output_type": "stream",
          "text": [
            "Train Loss: 0.062369937935099005 | Accuracy: 97.68375 %\n"
          ]
        },
        {
          "name": "stderr",
          "output_type": "stream",
          "text": [
            "Test of epoch_2: 100%|##########| 313/313 [00:36<00:00,  8.55it/s]\n"
          ]
        },
        {
          "name": "stdout",
          "output_type": "stream",
          "text": [
            "Test Loss: 0.053981314379217535 | Accuracy: 97.99 %\n"
          ]
        },
        {
          "name": "stderr",
          "output_type": "stream",
          "text": [
            "epoch_3/10: 100%|##########| 1875/1875 [09:34<00:00,  3.26it/s]\n"
          ]
        },
        {
          "name": "stdout",
          "output_type": "stream",
          "text": [
            "Train Loss: 0.052100670553992194 | Accuracy: 98.07416666666667 %\n"
          ]
        },
        {
          "name": "stderr",
          "output_type": "stream",
          "text": [
            "Test of epoch_3: 100%|##########| 313/313 [00:37<00:00,  8.26it/s]\n"
          ]
        },
        {
          "name": "stdout",
          "output_type": "stream",
          "text": [
            "Test Loss: 0.050076291648322904 | Accuracy: 98.125 %\n"
          ]
        },
        {
          "name": "stderr",
          "output_type": "stream",
          "text": [
            "epoch_4/10: 100%|##########| 1875/1875 [09:45<00:00,  3.20it/s]\n"
          ]
        },
        {
          "name": "stdout",
          "output_type": "stream",
          "text": [
            "Train Loss: 0.04586127873696387 | Accuracy: 98.3275 %\n"
          ]
        },
        {
          "name": "stderr",
          "output_type": "stream",
          "text": [
            "Test of epoch_4: 100%|##########| 313/313 [00:38<00:00,  8.18it/s]\n"
          ]
        },
        {
          "name": "stdout",
          "output_type": "stream",
          "text": [
            "Test Loss: 0.04678256711297737 | Accuracy: 98.2575 %\n"
          ]
        },
        {
          "name": "stderr",
          "output_type": "stream",
          "text": [
            "epoch_5/10: 100%|##########| 1875/1875 [09:42<00:00,  3.22it/s]\n"
          ]
        },
        {
          "name": "stdout",
          "output_type": "stream",
          "text": [
            "Train Loss: 0.04022025945720573 | Accuracy: 98.51791666666666 %\n"
          ]
        },
        {
          "name": "stderr",
          "output_type": "stream",
          "text": [
            "Test of epoch_5: 100%|##########| 313/313 [00:37<00:00,  8.27it/s]\n"
          ]
        },
        {
          "name": "stdout",
          "output_type": "stream",
          "text": [
            "Test Loss: 0.04426100999009037 | Accuracy: 98.385 %\n"
          ]
        },
        {
          "name": "stderr",
          "output_type": "stream",
          "text": [
            "epoch_6/10: 100%|##########| 1875/1875 [09:35<00:00,  3.26it/s]\n"
          ]
        },
        {
          "name": "stdout",
          "output_type": "stream",
          "text": [
            "Train Loss: 0.03626938004627203 | Accuracy: 98.6525 %\n"
          ]
        },
        {
          "name": "stderr",
          "output_type": "stream",
          "text": [
            "Test of epoch_6: 100%|##########| 313/313 [00:36<00:00,  8.58it/s]\n"
          ]
        },
        {
          "name": "stdout",
          "output_type": "stream",
          "text": [
            "Test Loss: 0.04987086862408981 | Accuracy: 98.195 %\n"
          ]
        },
        {
          "name": "stderr",
          "output_type": "stream",
          "text": [
            "epoch_7/10: 100%|##########| 1875/1875 [09:34<00:00,  3.26it/s]\n"
          ]
        },
        {
          "name": "stdout",
          "output_type": "stream",
          "text": [
            "Train Loss: 0.03349982850073526 | Accuracy: 98.75208333333333 %\n"
          ]
        },
        {
          "name": "stderr",
          "output_type": "stream",
          "text": [
            "Test of epoch_7: 100%|##########| 313/313 [00:36<00:00,  8.48it/s]\n"
          ]
        },
        {
          "name": "stdout",
          "output_type": "stream",
          "text": [
            "Test Loss: 0.04419894096057173 | Accuracy: 98.465 %\n"
          ]
        },
        {
          "name": "stderr",
          "output_type": "stream",
          "text": [
            "epoch_8/10: 100%|##########| 1875/1875 [09:35<00:00,  3.26it/s]\n"
          ]
        },
        {
          "name": "stdout",
          "output_type": "stream",
          "text": [
            "Train Loss: 0.031075553115534907 | Accuracy: 98.83791666666667 %\n"
          ]
        },
        {
          "name": "stderr",
          "output_type": "stream",
          "text": [
            "Test of epoch_8: 100%|##########| 313/313 [00:36<00:00,  8.48it/s]\n"
          ]
        },
        {
          "name": "stdout",
          "output_type": "stream",
          "text": [
            "Test Loss: 0.036214365935757956 | Accuracy: 98.705 %\n"
          ]
        },
        {
          "name": "stderr",
          "output_type": "stream",
          "text": [
            "epoch_9/10: 100%|##########| 1875/1875 [09:34<00:00,  3.26it/s]\n"
          ]
        },
        {
          "name": "stdout",
          "output_type": "stream",
          "text": [
            "Train Loss: 0.029330095828836784 | Accuracy: 98.91958333333334 %\n"
          ]
        },
        {
          "name": "stderr",
          "output_type": "stream",
          "text": [
            "Test of epoch_9: 100%|##########| 313/313 [00:37<00:00,  8.38it/s]\n"
          ]
        },
        {
          "name": "stdout",
          "output_type": "stream",
          "text": [
            "Test Loss: 0.04381413848394864 | Accuracy: 98.425 %\n"
          ]
        },
        {
          "name": "stderr",
          "output_type": "stream",
          "text": [
            "epoch_10/10: 100%|##########| 1875/1875 [09:40<00:00,  3.23it/s]\n"
          ]
        },
        {
          "name": "stdout",
          "output_type": "stream",
          "text": [
            "Train Loss: 0.026682126808686493 | Accuracy: 99.01208333333334 %\n"
          ]
        },
        {
          "name": "stderr",
          "output_type": "stream",
          "text": [
            "Test of epoch_10: 100%|##########| 313/313 [00:37<00:00,  8.35it/s]"
          ]
        },
        {
          "name": "stdout",
          "output_type": "stream",
          "text": [
            "Test Loss: 0.03683005833483938 | Accuracy: 98.71 %\n"
          ]
        },
        {
          "name": "stderr",
          "output_type": "stream",
          "text": [
            "\n"
          ]
        }
      ],
      "source": [
        "# training and testing\n",
        "train_loss = []\n",
        "train_accuracy = []\n",
        "\n",
        "test_loss = []\n",
        "test_accuracy = []\n",
        "\n",
        "# loss function\n",
        "cross_entropy_loss = torch.nn.CrossEntropyLoss()\n",
        "# number of epoch\n",
        "nb_epoch = rotnet_config.config['max_num_epochs']\n",
        "\n",
        "\n",
        "def train(epoch):\n",
        "    rotnet_nin.train()\n",
        "    epoch_loss = []\n",
        "    total_label = 0\n",
        "    total_correct_pred = 0\n",
        "    for _, batch in enumerate(tqdm(dloader_train(epoch), ascii=True, desc=f\"epoch_{epoch + 1}/{nb_epoch}\")):\n",
        "        dataX = torch.FloatTensor()\n",
        "        labels = torch.LongTensor()\n",
        "        dataX.resize_(batch[0].size()).copy_(batch[0])\n",
        "        labels.resize_(batch[1].size()).copy_(batch[1])\n",
        "\n",
        "        dataX_var = torch.autograd.Variable(dataX)\n",
        "        labels_var = torch.autograd.Variable(labels, requires_grad=False)\n",
        "        if torch.cuda.is_available():\n",
        "            dataX_var = dataX_var.cuda()\n",
        "            labels_var = labels_var.cuda()\n",
        "        pred_var = rotnet_nin(dataX_var)\n",
        "\n",
        "        # compute the loss\n",
        "        loss = cross_entropy_loss(pred_var, labels_var)\n",
        "        epoch_loss.append(loss.item())\n",
        "\n",
        "        # compute the number of correct prediction\n",
        "        total_correct_pred += nbr_total_pred(pred_var, labels_var)\n",
        "        total_label += labels_var.size(0)\n",
        "\n",
        "        # backpropagation\n",
        "        optimizer.zero_grad()\n",
        "        loss.backward()\n",
        "        optimizer.step()\n",
        "    epoch_loss = sum(epoch_loss) / len(epoch_loss)  # len(dloader_train)\n",
        "    accuracy = 100.0 * total_correct_pred / total_label\n",
        "    train_loss.append(epoch_loss)\n",
        "    train_accuracy.append(accuracy)\n",
        "\n",
        "    # create checkpoint (it will be use later for transfer learning stage)\n",
        "    torch.save(\n",
        "        {\n",
        "            'epoch': epoch,\n",
        "            'model_state_dict': rotnet_nin.state_dict(),\n",
        "            'optimizer_state_dict': optimizer.state_dict(),\n",
        "            'loss': train_loss[-1]\n",
        "        }, f\"./models_save_dir/rotnet/model_epoch_{epoch + 1}\"\n",
        "    )\n",
        "\n",
        "    print(f\"Train Loss: {epoch_loss} | Accuracy: {accuracy} %\")\n",
        "\n",
        "\n",
        "def test(epoch):\n",
        "    rotnet_nin.eval()\n",
        "    with torch.no_grad():\n",
        "        epoch_loss = []\n",
        "        total_label = 0\n",
        "        total_correct_pred = 0\n",
        "        for _, batch in enumerate(tqdm(dloader_test(epoch), ascii=True, desc=f\"Test of epoch_{epoch + 1}\")):\n",
        "            dataX = torch.FloatTensor()\n",
        "            labels = torch.LongTensor()\n",
        "            dataX.resize_(batch[0].size()).copy_(batch[0])\n",
        "            labels.resize_(batch[1].size()).copy_(batch[1])\n",
        "            dataX_var = torch.autograd.Variable(dataX)\n",
        "            labels_var = torch.autograd.Variable(labels, requires_grad=False)\n",
        "            if torch.cuda.is_available():\n",
        "                dataX_var = dataX_var.cuda()\n",
        "                labels_var = labels_var.cuda()\n",
        "            pred_var = rotnet_nin(dataX_var)\n",
        "\n",
        "            # compute the loss\n",
        "            loss = cross_entropy_loss(pred_var, labels_var)\n",
        "            epoch_loss.append(loss.item())\n",
        "\n",
        "            # compute the number of correct prediction\n",
        "            total_correct_pred += nbr_total_pred(pred_var, labels_var)\n",
        "            total_label += labels_var.size(0)\n",
        "        epoch_loss = sum(epoch_loss) / len(epoch_loss)\n",
        "        accuracy = 100.0 * total_correct_pred / total_label\n",
        "        test_loss.append(epoch_loss)\n",
        "        test_accuracy.append(accuracy)\n",
        "\n",
        "        print(f\"Test Loss: {epoch_loss} | Accuracy: {accuracy} %\")\n",
        "\n",
        "\n",
        "def fit(nb_epoch):\n",
        "    for epoch in range(nb_epoch):\n",
        "        train(epoch)\n",
        "        test(epoch)\n",
        "\n",
        "\n",
        "fit(nb_epoch)\n"
      ]
    },
    {
      "cell_type": "code",
      "execution_count": 15,
      "metadata": {
        "colab": {
          "base_uri": "https://localhost:8080/",
          "height": 590
        },
        "id": "3mCh_9EOoo5m",
        "outputId": "30d193e1-3746-44cc-9e5d-144e7fc1002b"
      },
      "outputs": [
        {
          "data": {
            "image/png": "[encoded data removed]",
            "text/plain": [
              "<Figure size 432x288 with 1 Axes>"
            ]
          },
          "metadata": {
            "needs_background": "light"
          },
          "output_type": "display_data"
        },
        {
          "name": "stdout",
          "output_type": "stream",
          "text": [
            "\n"
          ]
        },
        {
          "data": {
            "image/png": "[encoded data removed]",
            "text/plain": [
              "<Figure size 432x288 with 1 Axes>"
            ]
          },
          "metadata": {
            "needs_background": "light"
          },
          "output_type": "display_data"
        }
      ],
      "source": [
        "# visualise train loss and accuracy plot\n",
        "plt.plot(np.linspace(1, nb_epoch, nb_epoch).astype(int), train_loss, label='train_loss')\n",
        "fig = plt.plot(np.linspace(1, nb_epoch, nb_epoch).astype(int), test_loss, label='test_loss', c='purple')\n",
        "plt.legend(loc='upper left')\n",
        "plt.xlabel('epoch')\n",
        "plt.ylabel('loss')\n",
        "plt.title(\"loss curve\")\n",
        "plt.savefig('./figs/loss_curve_rot_model')\n",
        "plt.show()\n",
        "print()\n",
        "plt.plot(np.linspace(1, nb_epoch, nb_epoch).astype(int), train_accuracy, label='train_accuracy')\n",
        "plt.plot(np.linspace(1, nb_epoch,nb_epoch).astype(int), test_accuracy, label='test_accuracy', c='purple')\n",
        "plt.legend(loc='upper left')\n",
        "plt.xlabel('epoch')\n",
        "plt.ylabel('accuracy (%)')\n",
        "plt.title(\"accuracy curve\")\n",
        "plt.savefig('./figs/accuracy_curve_rot_model')\n",
        "plt.show()"
      ]
    },
    {
      "cell_type": "code",
      "execution_count": 16,
      "metadata": {},
      "outputs": [
        {
          "data": {
            "image/png": "[encoded data removed]",
            "text/plain": [
              "<Figure size 432x288 with 16 Axes>"
            ]
          },
          "metadata": {
            "needs_background": "light"
          },
          "output_type": "display_data"
        }
      ],
      "source": [
        "# prediction after training\n",
        "for b in dloader_test(0):\n",
        "    data, label = b\n",
        "    break\n",
        "\n",
        "inv_transform = dloader_train.inv_transform\n",
        "\n",
        "if torch.cuda.is_available():\n",
        "    data_cuda = data.cuda()\n",
        "else:\n",
        "    data_cuda = data\n",
        "rotnet_nin.eval()\n",
        "with torch.no_grad():\n",
        "    _, pred = rotnet_nin(data_cuda).data.max(1)\n",
        "    for i in range(16):\n",
        "        plt.subplot(4, 4, i + 1)\n",
        "        plt.tight_layout()\n",
        "        if pred[i].item() == 0:\n",
        "            angle = 0\n",
        "        elif pred[i].item() == 1:\n",
        "            angle = 90\n",
        "        elif pred[i].item() == 2:\n",
        "            angle = 180\n",
        "        else:\n",
        "            angle = 270\n",
        "        plt.tight_layout()\n",
        "        plt.title(f\"{angle}\")\n",
        "        fig = plt.imshow(inv_transform(data[i]).squeeze(), cmap='gray')\n",
        "        fig.axes.get_xaxis().set_visible(False)\n",
        "        fig.axes.get_yaxis().set_visible(False)\n",
        "\n",
        "    plt.savefig('./figs/rot_img_4x4_pred_after_training')\n",
        "    plt.show()"
      ]
    }
  ],
  "metadata": {
    "colab": {
      "collapsed_sections": [],
      "name": "RotNetMNIST",
      "provenance": []
    },
    "interpreter": {
      "hash": "31f2aee4e71d21fbe5cf8b01ff0e069b9275f58929596ceb00d14d90e3e16cd6"
    },
    "kernelspec": {
      "display_name": "Python 3.9.2 64-bit",
      "name": "python3"
    },
    "language_info": {
      "codemirror_mode": {
        "name": "ipython",
        "version": 3
      },
      "file_extension": ".py",
      "mimetype": "text/x-python",
      "name": "python",
      "nbconvert_exporter": "python",
      "pygments_lexer": "ipython3",
      "version": "3.9.2"
    }
  },
  "nbformat": 4,
  "nbformat_minor": 0
}
